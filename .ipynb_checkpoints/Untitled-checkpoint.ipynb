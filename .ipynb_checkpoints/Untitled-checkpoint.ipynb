{
 "cells": [
  {
   "cell_type": "code",
   "execution_count": 1,
   "id": "10e9e9d2",
   "metadata": {},
   "outputs": [],
   "source": [
    "import pandas as pd\n",
    "import numpy as np"
   ]
  },
  {
   "cell_type": "code",
   "execution_count": 2,
   "id": "d9e00241",
   "metadata": {},
   "outputs": [],
   "source": [
    "transactionFilepath = r'C:\\Users\\nikhi\\Desktop\\Quantium-task\\QVI_transaction_data.xlsx'\n",
    "customerFilepath = r'C:\\Users\\nikhi\\Desktop\\Quantium-task\\QVI_purchase_behaviour.csv'\n",
    "\n",
    "transactionData = pd.read_excel(transactionFilepath)\n",
    "customerDate = pd.read_csv(customerFilepath)"
   ]
  },
  {
   "cell_type": "code",
   "execution_count": 8,
   "id": "9b84440e",
   "metadata": {},
   "outputs": [
    {
     "data": {
      "text/html": [
       "<div>\n",
       "<style scoped>\n",
       "    .dataframe tbody tr th:only-of-type {\n",
       "        vertical-align: middle;\n",
       "    }\n",
       "\n",
       "    .dataframe tbody tr th {\n",
       "        vertical-align: top;\n",
       "    }\n",
       "\n",
       "    .dataframe thead th {\n",
       "        text-align: right;\n",
       "    }\n",
       "</style>\n",
       "<table border=\"1\" class=\"dataframe\">\n",
       "  <thead>\n",
       "    <tr style=\"text-align: right;\">\n",
       "      <th></th>\n",
       "      <th>DATE</th>\n",
       "      <th>STORE_NBR</th>\n",
       "      <th>LYLTY_CARD_NBR</th>\n",
       "      <th>TXN_ID</th>\n",
       "      <th>PROD_NBR</th>\n",
       "      <th>PROD_NAME</th>\n",
       "      <th>PROD_QTY</th>\n",
       "      <th>TOT_SALES</th>\n",
       "    </tr>\n",
       "  </thead>\n",
       "  <tbody>\n",
       "    <tr>\n",
       "      <th>0</th>\n",
       "      <td>43390</td>\n",
       "      <td>1</td>\n",
       "      <td>1000</td>\n",
       "      <td>1</td>\n",
       "      <td>5</td>\n",
       "      <td>Natural Chip        Compny SeaSalt175g</td>\n",
       "      <td>2</td>\n",
       "      <td>6.0</td>\n",
       "    </tr>\n",
       "    <tr>\n",
       "      <th>1</th>\n",
       "      <td>43599</td>\n",
       "      <td>1</td>\n",
       "      <td>1307</td>\n",
       "      <td>348</td>\n",
       "      <td>66</td>\n",
       "      <td>CCs Nacho Cheese    175g</td>\n",
       "      <td>3</td>\n",
       "      <td>6.3</td>\n",
       "    </tr>\n",
       "    <tr>\n",
       "      <th>2</th>\n",
       "      <td>43605</td>\n",
       "      <td>1</td>\n",
       "      <td>1343</td>\n",
       "      <td>383</td>\n",
       "      <td>61</td>\n",
       "      <td>Smiths Crinkle Cut  Chips Chicken 170g</td>\n",
       "      <td>2</td>\n",
       "      <td>2.9</td>\n",
       "    </tr>\n",
       "    <tr>\n",
       "      <th>3</th>\n",
       "      <td>43329</td>\n",
       "      <td>2</td>\n",
       "      <td>2373</td>\n",
       "      <td>974</td>\n",
       "      <td>69</td>\n",
       "      <td>Smiths Chip Thinly  S/Cream&amp;Onion 175g</td>\n",
       "      <td>5</td>\n",
       "      <td>15.0</td>\n",
       "    </tr>\n",
       "    <tr>\n",
       "      <th>4</th>\n",
       "      <td>43330</td>\n",
       "      <td>2</td>\n",
       "      <td>2426</td>\n",
       "      <td>1038</td>\n",
       "      <td>108</td>\n",
       "      <td>Kettle Tortilla ChpsHny&amp;Jlpno Chili 150g</td>\n",
       "      <td>3</td>\n",
       "      <td>13.8</td>\n",
       "    </tr>\n",
       "  </tbody>\n",
       "</table>\n",
       "</div>"
      ],
      "text/plain": [
       "    DATE  STORE_NBR  LYLTY_CARD_NBR  TXN_ID  PROD_NBR  \\\n",
       "0  43390          1            1000       1         5   \n",
       "1  43599          1            1307     348        66   \n",
       "2  43605          1            1343     383        61   \n",
       "3  43329          2            2373     974        69   \n",
       "4  43330          2            2426    1038       108   \n",
       "\n",
       "                                  PROD_NAME  PROD_QTY  TOT_SALES  \n",
       "0    Natural Chip        Compny SeaSalt175g         2        6.0  \n",
       "1                  CCs Nacho Cheese    175g         3        6.3  \n",
       "2    Smiths Crinkle Cut  Chips Chicken 170g         2        2.9  \n",
       "3    Smiths Chip Thinly  S/Cream&Onion 175g         5       15.0  \n",
       "4  Kettle Tortilla ChpsHny&Jlpno Chili 150g         3       13.8  "
      ]
     },
     "execution_count": 8,
     "metadata": {},
     "output_type": "execute_result"
    }
   ],
   "source": [
    "# Exploring the transactionData\n",
    "transactionData.head()"
   ]
  },
  {
   "cell_type": "code",
   "execution_count": 9,
   "id": "144958ab",
   "metadata": {},
   "outputs": [
    {
     "data": {
      "text/plain": [
       "Index(['DATE', 'STORE_NBR', 'LYLTY_CARD_NBR', 'TXN_ID', 'PROD_NBR',\n",
       "       'PROD_NAME', 'PROD_QTY', 'TOT_SALES'],\n",
       "      dtype='object')"
      ]
     },
     "execution_count": 9,
     "metadata": {},
     "output_type": "execute_result"
    }
   ],
   "source": [
    "transactionData.columns"
   ]
  },
  {
   "cell_type": "code",
   "execution_count": 10,
   "id": "c7b76269",
   "metadata": {},
   "outputs": [
    {
     "data": {
      "text/html": [
       "<div>\n",
       "<style scoped>\n",
       "    .dataframe tbody tr th:only-of-type {\n",
       "        vertical-align: middle;\n",
       "    }\n",
       "\n",
       "    .dataframe tbody tr th {\n",
       "        vertical-align: top;\n",
       "    }\n",
       "\n",
       "    .dataframe thead th {\n",
       "        text-align: right;\n",
       "    }\n",
       "</style>\n",
       "<table border=\"1\" class=\"dataframe\">\n",
       "  <thead>\n",
       "    <tr style=\"text-align: right;\">\n",
       "      <th></th>\n",
       "      <th>LYLTY_CARD_NBR</th>\n",
       "      <th>LIFESTAGE</th>\n",
       "      <th>PREMIUM_CUSTOMER</th>\n",
       "    </tr>\n",
       "  </thead>\n",
       "  <tbody>\n",
       "    <tr>\n",
       "      <th>0</th>\n",
       "      <td>1000</td>\n",
       "      <td>YOUNG SINGLES/COUPLES</td>\n",
       "      <td>Premium</td>\n",
       "    </tr>\n",
       "    <tr>\n",
       "      <th>1</th>\n",
       "      <td>1002</td>\n",
       "      <td>YOUNG SINGLES/COUPLES</td>\n",
       "      <td>Mainstream</td>\n",
       "    </tr>\n",
       "    <tr>\n",
       "      <th>2</th>\n",
       "      <td>1003</td>\n",
       "      <td>YOUNG FAMILIES</td>\n",
       "      <td>Budget</td>\n",
       "    </tr>\n",
       "    <tr>\n",
       "      <th>3</th>\n",
       "      <td>1004</td>\n",
       "      <td>OLDER SINGLES/COUPLES</td>\n",
       "      <td>Mainstream</td>\n",
       "    </tr>\n",
       "    <tr>\n",
       "      <th>4</th>\n",
       "      <td>1005</td>\n",
       "      <td>MIDAGE SINGLES/COUPLES</td>\n",
       "      <td>Mainstream</td>\n",
       "    </tr>\n",
       "  </tbody>\n",
       "</table>\n",
       "</div>"
      ],
      "text/plain": [
       "   LYLTY_CARD_NBR               LIFESTAGE PREMIUM_CUSTOMER\n",
       "0            1000   YOUNG SINGLES/COUPLES          Premium\n",
       "1            1002   YOUNG SINGLES/COUPLES       Mainstream\n",
       "2            1003          YOUNG FAMILIES           Budget\n",
       "3            1004   OLDER SINGLES/COUPLES       Mainstream\n",
       "4            1005  MIDAGE SINGLES/COUPLES       Mainstream"
      ]
     },
     "execution_count": 10,
     "metadata": {},
     "output_type": "execute_result"
    }
   ],
   "source": [
    "customerDate.head()"
   ]
  },
  {
   "cell_type": "code",
   "execution_count": 13,
   "id": "ef99eb39",
   "metadata": {},
   "outputs": [
    {
     "data": {
      "text/plain": [
       "DATE                int64\n",
       "STORE_NBR           int64\n",
       "LYLTY_CARD_NBR      int64\n",
       "TXN_ID              int64\n",
       "PROD_NBR            int64\n",
       "PROD_NAME          object\n",
       "PROD_QTY            int64\n",
       "TOT_SALES         float64\n",
       "dtype: object"
      ]
     },
     "execution_count": 13,
     "metadata": {},
     "output_type": "execute_result"
    }
   ],
   "source": [
    "#checking if columns we would expect to be numeric are in numeric form and date columns are in date format\n",
    "transactionData.dtypes"
   ]
  },
  {
   "cell_type": "code",
   "execution_count": 14,
   "id": "ef1b1b01",
   "metadata": {},
   "outputs": [
    {
     "data": {
      "text/plain": [
       "Index(['LYLTY_CARD_NBR', 'LIFESTAGE', 'PREMIUM_CUSTOMER'], dtype='object')"
      ]
     },
     "execution_count": 14,
     "metadata": {},
     "output_type": "execute_result"
    }
   ],
   "source": [
    "customerDate.columns"
   ]
  },
  {
   "cell_type": "code",
   "execution_count": 15,
   "id": "911d98ca",
   "metadata": {},
   "outputs": [
    {
     "data": {
      "text/plain": [
       "0        2018-10-17\n",
       "1        2019-05-14\n",
       "2        2019-05-20\n",
       "3        2018-08-17\n",
       "4        2018-08-18\n",
       "            ...    \n",
       "264831   2019-03-09\n",
       "264832   2018-08-13\n",
       "264833   2018-11-06\n",
       "264834   2018-12-27\n",
       "264835   2018-09-22\n",
       "Name: New_Date, Length: 264836, dtype: datetime64[ns]"
      ]
     },
     "execution_count": 15,
     "metadata": {},
     "output_type": "execute_result"
    }
   ],
   "source": [
    "#Here we are converting Date numeric into a proper Datestamp and saving it into a new column 'New_date'\n",
    "\n",
    "transactionData['New_Date'] =pd.to_datetime(pd.to_numeric(transactionData.DATE,errors='coerce'),errors='coerce',origin='1899-12-30',unit='D')\n",
    "transactionData['New_Date']"
   ]
  },
  {
   "cell_type": "code",
   "execution_count": 19,
   "id": "fceb7cc3",
   "metadata": {},
   "outputs": [
    {
     "data": {
      "text/plain": [
       "count                                     264836\n",
       "unique                                       114\n",
       "top       Kettle Mozzarella   Basil & Pesto 175g\n",
       "freq                                        3304\n",
       "Name: PROD_NAME, dtype: object"
      ]
     },
     "execution_count": 19,
     "metadata": {},
     "output_type": "execute_result"
    }
   ],
   "source": [
    "# Summary of Products Name\n",
    "transactionData.PROD_NAME.describe(include=['object'])"
   ]
  },
  {
   "cell_type": "code",
   "execution_count": 46,
   "id": "f9240211",
   "metadata": {},
   "outputs": [
    {
     "name": "stdout",
     "output_type": "stream",
     "text": [
      "<class 'pandas.core.frame.DataFrame'>\n",
      "RangeIndex: 264836 entries, 0 to 264835\n",
      "Data columns (total 9 columns):\n",
      " #   Column          Non-Null Count   Dtype         \n",
      "---  ------          --------------   -----         \n",
      " 0   DATE            264836 non-null  int64         \n",
      " 1   STORE_NBR       264836 non-null  int64         \n",
      " 2   LYLTY_CARD_NBR  264836 non-null  int64         \n",
      " 3   TXN_ID          264836 non-null  int64         \n",
      " 4   PROD_NBR        264836 non-null  int64         \n",
      " 5   PROD_NAME       264836 non-null  object        \n",
      " 6   PROD_QTY        264836 non-null  int64         \n",
      " 7   TOT_SALES       264836 non-null  float64       \n",
      " 8   New_Date        264836 non-null  datetime64[ns]\n",
      "dtypes: datetime64[ns](1), float64(1), int64(6), object(1)\n",
      "memory usage: 18.2+ MB\n"
     ]
    }
   ],
   "source": [
    "# transactionData.info(null_counts =True, verbose=True)\n",
    "transactionData.info()"
   ]
  },
  {
   "cell_type": "code",
   "execution_count": 32,
   "id": "f69ce72b",
   "metadata": {},
   "outputs": [
    {
     "data": {
      "text/html": [
       "<div>\n",
       "<style scoped>\n",
       "    .dataframe tbody tr th:only-of-type {\n",
       "        vertical-align: middle;\n",
       "    }\n",
       "\n",
       "    .dataframe tbody tr th {\n",
       "        vertical-align: top;\n",
       "    }\n",
       "\n",
       "    .dataframe thead tr th {\n",
       "        text-align: left;\n",
       "    }\n",
       "\n",
       "    .dataframe thead tr:last-of-type th {\n",
       "        text-align: right;\n",
       "    }\n",
       "</style>\n",
       "<table border=\"1\" class=\"dataframe\">\n",
       "  <thead>\n",
       "    <tr>\n",
       "      <th></th>\n",
       "      <th colspan=\"8\" halign=\"left\">TOT_SALES</th>\n",
       "    </tr>\n",
       "    <tr>\n",
       "      <th></th>\n",
       "      <th>count</th>\n",
       "      <th>mean</th>\n",
       "      <th>std</th>\n",
       "      <th>min</th>\n",
       "      <th>25%</th>\n",
       "      <th>50%</th>\n",
       "      <th>75%</th>\n",
       "      <th>max</th>\n",
       "    </tr>\n",
       "    <tr>\n",
       "      <th>PROD_NAME</th>\n",
       "      <th></th>\n",
       "      <th></th>\n",
       "      <th></th>\n",
       "      <th></th>\n",
       "      <th></th>\n",
       "      <th></th>\n",
       "      <th></th>\n",
       "      <th></th>\n",
       "    </tr>\n",
       "  </thead>\n",
       "  <tbody>\n",
       "    <tr>\n",
       "      <th>Burger Rings 220g</th>\n",
       "      <td>1564.0</td>\n",
       "      <td>4.367647</td>\n",
       "      <td>0.908819</td>\n",
       "      <td>2.3</td>\n",
       "      <td>4.6</td>\n",
       "      <td>4.6</td>\n",
       "      <td>4.6</td>\n",
       "      <td>11.5</td>\n",
       "    </tr>\n",
       "    <tr>\n",
       "      <th>CCs Nacho Cheese    175g</th>\n",
       "      <td>1498.0</td>\n",
       "      <td>3.979907</td>\n",
       "      <td>0.737327</td>\n",
       "      <td>2.1</td>\n",
       "      <td>4.2</td>\n",
       "      <td>4.2</td>\n",
       "      <td>4.2</td>\n",
       "      <td>10.5</td>\n",
       "    </tr>\n",
       "    <tr>\n",
       "      <th>CCs Original 175g</th>\n",
       "      <td>1514.0</td>\n",
       "      <td>3.994716</td>\n",
       "      <td>0.751063</td>\n",
       "      <td>2.1</td>\n",
       "      <td>4.2</td>\n",
       "      <td>4.2</td>\n",
       "      <td>4.2</td>\n",
       "      <td>10.5</td>\n",
       "    </tr>\n",
       "    <tr>\n",
       "      <th>CCs Tasty Cheese    175g</th>\n",
       "      <td>1539.0</td>\n",
       "      <td>3.943470</td>\n",
       "      <td>0.796106</td>\n",
       "      <td>2.1</td>\n",
       "      <td>4.2</td>\n",
       "      <td>4.2</td>\n",
       "      <td>4.2</td>\n",
       "      <td>10.5</td>\n",
       "    </tr>\n",
       "    <tr>\n",
       "      <th>Cheetos Chs &amp; Bacon Balls 190g</th>\n",
       "      <td>1479.0</td>\n",
       "      <td>6.249696</td>\n",
       "      <td>1.214938</td>\n",
       "      <td>3.3</td>\n",
       "      <td>6.6</td>\n",
       "      <td>6.6</td>\n",
       "      <td>6.6</td>\n",
       "      <td>16.5</td>\n",
       "    </tr>\n",
       "    <tr>\n",
       "      <th>...</th>\n",
       "      <td>...</td>\n",
       "      <td>...</td>\n",
       "      <td>...</td>\n",
       "      <td>...</td>\n",
       "      <td>...</td>\n",
       "      <td>...</td>\n",
       "      <td>...</td>\n",
       "      <td>...</td>\n",
       "    </tr>\n",
       "    <tr>\n",
       "      <th>WW Sour Cream &amp;OnionStacked Chips 160g</th>\n",
       "      <td>1483.0</td>\n",
       "      <td>3.589885</td>\n",
       "      <td>0.731824</td>\n",
       "      <td>1.9</td>\n",
       "      <td>3.8</td>\n",
       "      <td>3.8</td>\n",
       "      <td>3.8</td>\n",
       "      <td>9.5</td>\n",
       "    </tr>\n",
       "    <tr>\n",
       "      <th>WW Supreme Cheese   Corn Chips 200g</th>\n",
       "      <td>1509.0</td>\n",
       "      <td>3.572101</td>\n",
       "      <td>0.644079</td>\n",
       "      <td>1.9</td>\n",
       "      <td>3.8</td>\n",
       "      <td>3.8</td>\n",
       "      <td>3.8</td>\n",
       "      <td>9.5</td>\n",
       "    </tr>\n",
       "    <tr>\n",
       "      <th>Woolworths Cheese   Rings 190g</th>\n",
       "      <td>1516.0</td>\n",
       "      <td>3.410026</td>\n",
       "      <td>0.645966</td>\n",
       "      <td>1.8</td>\n",
       "      <td>3.6</td>\n",
       "      <td>3.6</td>\n",
       "      <td>3.6</td>\n",
       "      <td>9.0</td>\n",
       "    </tr>\n",
       "    <tr>\n",
       "      <th>Woolworths Medium   Salsa 300g</th>\n",
       "      <td>1430.0</td>\n",
       "      <td>2.832168</td>\n",
       "      <td>0.535461</td>\n",
       "      <td>1.5</td>\n",
       "      <td>3.0</td>\n",
       "      <td>3.0</td>\n",
       "      <td>3.0</td>\n",
       "      <td>7.5</td>\n",
       "    </tr>\n",
       "    <tr>\n",
       "      <th>Woolworths Mild     Salsa 300g</th>\n",
       "      <td>1491.0</td>\n",
       "      <td>2.840040</td>\n",
       "      <td>0.589391</td>\n",
       "      <td>1.5</td>\n",
       "      <td>3.0</td>\n",
       "      <td>3.0</td>\n",
       "      <td>3.0</td>\n",
       "      <td>7.5</td>\n",
       "    </tr>\n",
       "  </tbody>\n",
       "</table>\n",
       "<p>114 rows × 8 columns</p>\n",
       "</div>"
      ],
      "text/plain": [
       "                                       TOT_SALES                           \\\n",
       "                                           count      mean       std  min   \n",
       "PROD_NAME                                                                   \n",
       "Burger Rings 220g                         1564.0  4.367647  0.908819  2.3   \n",
       "CCs Nacho Cheese    175g                  1498.0  3.979907  0.737327  2.1   \n",
       "CCs Original 175g                         1514.0  3.994716  0.751063  2.1   \n",
       "CCs Tasty Cheese    175g                  1539.0  3.943470  0.796106  2.1   \n",
       "Cheetos Chs & Bacon Balls 190g            1479.0  6.249696  1.214938  3.3   \n",
       "...                                          ...       ...       ...  ...   \n",
       "WW Sour Cream &OnionStacked Chips 160g    1483.0  3.589885  0.731824  1.9   \n",
       "WW Supreme Cheese   Corn Chips 200g       1509.0  3.572101  0.644079  1.9   \n",
       "Woolworths Cheese   Rings 190g            1516.0  3.410026  0.645966  1.8   \n",
       "Woolworths Medium   Salsa 300g            1430.0  2.832168  0.535461  1.5   \n",
       "Woolworths Mild     Salsa 300g            1491.0  2.840040  0.589391  1.5   \n",
       "\n",
       "                                                             \n",
       "                                        25%  50%  75%   max  \n",
       "PROD_NAME                                                    \n",
       "Burger Rings 220g                       4.6  4.6  4.6  11.5  \n",
       "CCs Nacho Cheese    175g                4.2  4.2  4.2  10.5  \n",
       "CCs Original 175g                       4.2  4.2  4.2  10.5  \n",
       "CCs Tasty Cheese    175g                4.2  4.2  4.2  10.5  \n",
       "Cheetos Chs & Bacon Balls 190g          6.6  6.6  6.6  16.5  \n",
       "...                                     ...  ...  ...   ...  \n",
       "WW Sour Cream &OnionStacked Chips 160g  3.8  3.8  3.8   9.5  \n",
       "WW Supreme Cheese   Corn Chips 200g     3.8  3.8  3.8   9.5  \n",
       "Woolworths Cheese   Rings 190g          3.6  3.6  3.6   9.0  \n",
       "Woolworths Medium   Salsa 300g          3.0  3.0  3.0   7.5  \n",
       "Woolworths Mild     Salsa 300g          3.0  3.0  3.0   7.5  \n",
       "\n",
       "[114 rows x 8 columns]"
      ]
     },
     "execution_count": 32,
     "metadata": {},
     "output_type": "execute_result"
    }
   ],
   "source": [
    "# Group data by PROD_NAME and summarize TOT_SALES\n",
    "\n",
    "sale_by_product=transactionData.groupby([\"PROD_NAME\"])[[\"TOT_SALES\"]].describe()\n",
    "sale_by_product"
   ]
  },
  {
   "cell_type": "code",
   "execution_count": 33,
   "id": "3e3e26e3",
   "metadata": {},
   "outputs": [
    {
     "data": {
      "text/plain": [
       "0         38\n",
       "1         24\n",
       "2         38\n",
       "3         38\n",
       "4         40\n",
       "          ..\n",
       "264831    39\n",
       "264832    29\n",
       "264833    24\n",
       "264834    39\n",
       "264835    29\n",
       "Name: PROD_NAME, Length: 264836, dtype: int64"
      ]
     },
     "execution_count": 33,
     "metadata": {},
     "output_type": "execute_result"
    }
   ],
   "source": [
    "transactionData[\"PROD_NAME\"].str.len() ## this also includes spaces"
   ]
  },
  {
   "cell_type": "code",
   "execution_count": null,
   "id": "43483751",
   "metadata": {},
   "outputs": [],
   "source": [
    "\n",
    "# from nltk.corpus import stopwords\n",
    "# stop = stopwords.words('Chips')\n",
    "\n",
    "# transactionData['stopwords'] = transactionData['PROD_NAME'].apply(lambda x: len([x for x in x.split() if x in stop]))\n",
    "# transactionData[['PROD_NAME','stopwords']].head()"
   ]
  },
  {
   "cell_type": "code",
   "execution_count": 41,
   "id": "305cb5b4",
   "metadata": {},
   "outputs": [
    {
     "data": {
      "text/plain": [
       "count                                     264836\n",
       "unique                                       114\n",
       "top       Kettle Mozzarella   Basil & Pesto 175g\n",
       "freq                                        3304\n",
       "Name: PROD_NAME, dtype: object"
      ]
     },
     "execution_count": 41,
     "metadata": {},
     "output_type": "execute_result"
    }
   ],
   "source": [
    "transactionData[\"PROD_NAME\"].describe().head()"
   ]
  },
  {
   "cell_type": "code",
   "execution_count": null,
   "id": "350b372b",
   "metadata": {},
   "outputs": [],
   "source": []
  }
 ],
 "metadata": {
  "kernelspec": {
   "display_name": "Python 3",
   "language": "python",
   "name": "python3"
  },
  "language_info": {
   "codemirror_mode": {
    "name": "ipython",
    "version": 3
   },
   "file_extension": ".py",
   "mimetype": "text/x-python",
   "name": "python",
   "nbconvert_exporter": "python",
   "pygments_lexer": "ipython3",
   "version": "3.8.8"
  }
 },
 "nbformat": 4,
 "nbformat_minor": 5
}
