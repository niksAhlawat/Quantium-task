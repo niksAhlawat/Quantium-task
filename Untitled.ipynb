{
 "cells": [
  {
   "cell_type": "code",
   "execution_count": 17,
   "id": "10e9e9d2",
   "metadata": {},
   "outputs": [],
   "source": [
    "import pandas as pd\n",
    "import numpy as np\n"
   ]
  },
  {
   "cell_type": "code",
   "execution_count": null,
   "id": "d9e00241",
   "metadata": {},
   "outputs": [],
   "source": [
    "transactionFilepath = r'C:\\Users\\nikhi\\Desktop\\Quantium-task\\QVI_transaction_data.xlsx'\n",
    "customerFilepath = r'C:\\Users\\nikhi\\Desktop\\Quantium-task\\QVI_purchase_behaviour.csv'\n",
    "\n",
    "transactionData = pd.read_excel(transactionFilepath)\n",
    "customerDate = pd.read_csv(customerFilepath)"
   ]
  },
  {
   "cell_type": "code",
   "execution_count": null,
   "id": "9b84440e",
   "metadata": {},
   "outputs": [],
   "source": [
    "# Exploring the transactionData\n",
    "transactionData.head()"
   ]
  },
  {
   "cell_type": "code",
   "execution_count": null,
   "id": "144958ab",
   "metadata": {},
   "outputs": [],
   "source": [
    "transactionData.columns"
   ]
  },
  {
   "cell_type": "code",
   "execution_count": null,
   "id": "c7b76269",
   "metadata": {},
   "outputs": [],
   "source": [
    "customerDate.head()"
   ]
  },
  {
   "cell_type": "code",
   "execution_count": null,
   "id": "ef99eb39",
   "metadata": {},
   "outputs": [],
   "source": [
    "#checking if columns we would expect to be numeric are in numeric form and date columns are in date format\n",
    "transactionData.dtypes"
   ]
  },
  {
   "cell_type": "code",
   "execution_count": null,
   "id": "ef1b1b01",
   "metadata": {},
   "outputs": [],
   "source": [
    "customerDate.columns"
   ]
  },
  {
   "cell_type": "code",
   "execution_count": null,
   "id": "911d98ca",
   "metadata": {},
   "outputs": [],
   "source": [
    "#Here we are converting Date numeric into a proper Datestamp and saving it into a new column 'New_date'\n",
    "\n",
    "transactionData['New_Date'] =pd.to_datetime(pd.to_numeric(transactionData.DATE,errors='coerce'),errors='coerce',origin='1899-12-30',unit='D')\n",
    "transactionData['New_Date']"
   ]
  },
  {
   "cell_type": "code",
   "execution_count": null,
   "id": "fceb7cc3",
   "metadata": {},
   "outputs": [],
   "source": [
    "# Summary of Products Name\n",
    "transactionData.PROD_NAME.describe(include=['object'])"
   ]
  },
  {
   "cell_type": "code",
   "execution_count": null,
   "id": "b059c9c0",
   "metadata": {},
   "outputs": [],
   "source": [
    "# transactionData.info(null_counts =True, verbose=True)\n",
    "transactionData.info()"
   ]
  },
  {
   "cell_type": "code",
   "execution_count": null,
   "id": "149ab6aa",
   "metadata": {},
   "outputs": [],
   "source": [
    "# Group data by PROD_NAME and summarize TOT_SALES\n",
    "\n",
    "sale_by_product=transactionData.groupby([\"PROD_NAME\"])[[\"TOT_SALES\"]].describe()\n",
    "sale_by_product"
   ]
  },
  {
   "cell_type": "code",
   "execution_count": null,
   "id": "fa5f04f7",
   "metadata": {},
   "outputs": [],
   "source": [
    "transactionData[\"PROD_NAME\"].str.len() ## this also includes spaces"
   ]
  },
  {
   "cell_type": "code",
   "execution_count": null,
   "id": "716dc430",
   "metadata": {},
   "outputs": [],
   "source": [
    "\n",
    "# from nltk.corpus import stopwords\n",
    "# stop = stopwords.words('Chips')\n",
    "\n",
    "# transactionData['stopwords'] = transactionData['PROD_NAME'].apply(lambda x: len([x for x in x.split() if x in stop]))\n",
    "# transactionData[['PROD_NAME','stopwords']].head()"
   ]
  },
  {
   "cell_type": "code",
   "execution_count": null,
   "id": "b7ab7612",
   "metadata": {},
   "outputs": [],
   "source": [
    "transactionData[\"PROD_NAME\"].describe()"
   ]
  },
  {
   "cell_type": "code",
   "execution_count": null,
   "id": "1a103690",
   "metadata": {},
   "outputs": [],
   "source": [
    "transactionData[\"PROD_NAME\"].str.contains('Chips')"
   ]
  },
  {
   "cell_type": "code",
   "execution_count": null,
   "id": "5779f2a5",
   "metadata": {},
   "outputs": [],
   "source": [
    "transactionData[\"PROD_NAME\"].sort_values()"
   ]
  }
 ],
 "metadata": {
  "kernelspec": {
   "display_name": "Python 3",
   "language": "python",
   "name": "python3"
  },
  "language_info": {
   "codemirror_mode": {
    "name": "ipython",
    "version": 3
   },
   "file_extension": ".py",
   "mimetype": "text/x-python",
   "name": "python",
   "nbconvert_exporter": "python",
   "pygments_lexer": "ipython3",
   "version": "3.8.8"
  }
 },
 "nbformat": 4,
 "nbformat_minor": 5
}
